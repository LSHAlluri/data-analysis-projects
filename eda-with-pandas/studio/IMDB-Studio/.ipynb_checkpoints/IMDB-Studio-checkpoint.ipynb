{
 "cells": [
  {
   "cell_type": "markdown",
   "id": "2f470e67-1623-4416-b9c2-8367f7834a26",
   "metadata": {},
   "source": [
    "# Exploratory Data Analysis with pandas Studio\n",
    "\n",
    "## Data Analysis of IMDB movies data\n",
    "\n",
    "#### Blocks have been created for your code\n",
    "\n",
    "#### Click on the following link and download the dataset from [Kaggle](https://www.kaggle.com/PromptCloudHQ/imdb-data)."
   ]
  },
  {
   "cell_type": "markdown",
   "id": "34632281-1e15-44b1-a3e3-b82ddacb5cbd",
   "metadata": {},
   "source": [
    "### 1. Read data"
   ]
  },
  {
   "cell_type": "code",
   "execution_count": 2,
   "id": "070ebed9-c948-4821-9a24-67f0e3fe8fce",
   "metadata": {},
   "outputs": [
    {
     "name": "stdout",
     "output_type": "stream",
     "text": [
      "     Rank                    Title                     Genre  \\\n",
      "0       1  Guardians of the Galaxy   Action,Adventure,Sci-Fi   \n",
      "1       2               Prometheus  Adventure,Mystery,Sci-Fi   \n",
      "2       3                    Split           Horror,Thriller   \n",
      "3       4                     Sing   Animation,Comedy,Family   \n",
      "4       5            Suicide Squad  Action,Adventure,Fantasy   \n",
      "..    ...                      ...                       ...   \n",
      "995   996     Secret in Their Eyes       Crime,Drama,Mystery   \n",
      "996   997          Hostel: Part II                    Horror   \n",
      "997   998   Step Up 2: The Streets       Drama,Music,Romance   \n",
      "998   999             Search Party          Adventure,Comedy   \n",
      "999  1000               Nine Lives     Comedy,Family,Fantasy   \n",
      "\n",
      "                                           Description              Director  \\\n",
      "0    A group of intergalactic criminals are forced ...            James Gunn   \n",
      "1    Following clues to the origin of mankind, a te...          Ridley Scott   \n",
      "2    Three girls are kidnapped by a man with a diag...    M. Night Shyamalan   \n",
      "3    In a city of humanoid animals, a hustling thea...  Christophe Lourdelet   \n",
      "4    A secret government agency recruits some of th...            David Ayer   \n",
      "..                                                 ...                   ...   \n",
      "995  A tight-knit team of rising investigators, alo...             Billy Ray   \n",
      "996  Three American college students studying abroa...              Eli Roth   \n",
      "997  Romantic sparks occur between two dance studen...            Jon M. Chu   \n",
      "998  A pair of friends embark on a mission to reuni...        Scot Armstrong   \n",
      "999  A stuffy businessman finds himself trapped ins...      Barry Sonnenfeld   \n",
      "\n",
      "                                                Actors  Year  \\\n",
      "0    Chris Pratt, Vin Diesel, Bradley Cooper, Zoe S...  2014   \n",
      "1    Noomi Rapace, Logan Marshall-Green, Michael Fa...  2012   \n",
      "2    James McAvoy, Anya Taylor-Joy, Haley Lu Richar...  2016   \n",
      "3    Matthew McConaughey,Reese Witherspoon, Seth Ma...  2016   \n",
      "4    Will Smith, Jared Leto, Margot Robbie, Viola D...  2016   \n",
      "..                                                 ...   ...   \n",
      "995  Chiwetel Ejiofor, Nicole Kidman, Julia Roberts...  2015   \n",
      "996  Lauren German, Heather Matarazzo, Bijou Philli...  2007   \n",
      "997  Robert Hoffman, Briana Evigan, Cassie Ventura,...  2008   \n",
      "998  Adam Pally, T.J. Miller, Thomas Middleditch,Sh...  2014   \n",
      "999  Kevin Spacey, Jennifer Garner, Robbie Amell,Ch...  2016   \n",
      "\n",
      "     Runtime (Minutes)  Rating   Votes  Revenue (Millions)  Metascore  \n",
      "0                  121     8.1  757074              333.13       76.0  \n",
      "1                  124     7.0  485820              126.46       65.0  \n",
      "2                  117     7.3  157606              138.12       62.0  \n",
      "3                  108     7.2   60545              270.32       59.0  \n",
      "4                  123     6.2  393727              325.02       40.0  \n",
      "..                 ...     ...     ...                 ...        ...  \n",
      "995                111     6.2   27585                 NaN       45.0  \n",
      "996                 94     5.5   73152               17.54       46.0  \n",
      "997                 98     6.2   70699               58.01       50.0  \n",
      "998                 93     5.6    4881                 NaN       22.0  \n",
      "999                 87     5.3   12435               19.64       11.0  \n",
      "\n",
      "[1000 rows x 12 columns]\n"
     ]
    }
   ],
   "source": [
    "# import pandas\n",
    "import pandas as pd\n",
    "# create your data variabe using .read_csv \n",
    "df = pd.read_csv('IMDB-Movie-Data.csv')\n",
    "\n",
    "# create your data_indexed variable here\n",
    "index_variable = df.loc[:,'Rank']\n",
    "\n",
    "print(df)\n"
   ]
  },
  {
   "cell_type": "code",
   "execution_count": 3,
   "id": "608c357a-271b-49c1-9b96-68b5c1cb7046",
   "metadata": {},
   "outputs": [],
   "source": [
    "# If you are having trouble reading your file, try finding the path.  \n",
    "    # Right click on your data set, on the pop-up menu select \"Copy Path\" then paste it into your read_csv() function."
   ]
  },
  {
   "cell_type": "code",
   "execution_count": 4,
   "id": "5d8b578c-750c-491b-98d5-140a237ad940",
   "metadata": {},
   "outputs": [
    {
     "name": "stdout",
     "output_type": "stream",
     "text": [
      "        Rank                   Title                     Genre  \\\n",
      "Rank                                                             \n",
      "1        2.0              Prometheus  Adventure,Mystery,Sci-Fi   \n",
      "2        3.0                   Split           Horror,Thriller   \n",
      "3        4.0                    Sing   Animation,Comedy,Family   \n",
      "4        5.0           Suicide Squad  Action,Adventure,Fantasy   \n",
      "5        6.0          The Great Wall  Action,Adventure,Fantasy   \n",
      "...      ...                     ...                       ...   \n",
      "996    997.0         Hostel: Part II                    Horror   \n",
      "997    998.0  Step Up 2: The Streets       Drama,Music,Romance   \n",
      "998    999.0            Search Party          Adventure,Comedy   \n",
      "999   1000.0              Nine Lives     Comedy,Family,Fantasy   \n",
      "1000     NaN                     NaN                       NaN   \n",
      "\n",
      "                                            Description              Director  \\\n",
      "Rank                                                                            \n",
      "1     Following clues to the origin of mankind, a te...          Ridley Scott   \n",
      "2     Three girls are kidnapped by a man with a diag...    M. Night Shyamalan   \n",
      "3     In a city of humanoid animals, a hustling thea...  Christophe Lourdelet   \n",
      "4     A secret government agency recruits some of th...            David Ayer   \n",
      "5     European mercenaries searching for black powde...           Yimou Zhang   \n",
      "...                                                 ...                   ...   \n",
      "996   Three American college students studying abroa...              Eli Roth   \n",
      "997   Romantic sparks occur between two dance studen...            Jon M. Chu   \n",
      "998   A pair of friends embark on a mission to reuni...        Scot Armstrong   \n",
      "999   A stuffy businessman finds himself trapped ins...      Barry Sonnenfeld   \n",
      "1000                                                NaN                   NaN   \n",
      "\n",
      "                                                 Actors    Year  \\\n",
      "Rank                                                              \n",
      "1     Noomi Rapace, Logan Marshall-Green, Michael Fa...  2012.0   \n",
      "2     James McAvoy, Anya Taylor-Joy, Haley Lu Richar...  2016.0   \n",
      "3     Matthew McConaughey,Reese Witherspoon, Seth Ma...  2016.0   \n",
      "4     Will Smith, Jared Leto, Margot Robbie, Viola D...  2016.0   \n",
      "5         Matt Damon, Tian Jing, Willem Dafoe, Andy Lau  2016.0   \n",
      "...                                                 ...     ...   \n",
      "996   Lauren German, Heather Matarazzo, Bijou Philli...  2007.0   \n",
      "997   Robert Hoffman, Briana Evigan, Cassie Ventura,...  2008.0   \n",
      "998   Adam Pally, T.J. Miller, Thomas Middleditch,Sh...  2014.0   \n",
      "999   Kevin Spacey, Jennifer Garner, Robbie Amell,Ch...  2016.0   \n",
      "1000                                                NaN     NaN   \n",
      "\n",
      "      Runtime (Minutes)  Rating     Votes  Revenue (Millions)  Metascore  \n",
      "Rank                                                                      \n",
      "1                 124.0     7.0  485820.0              126.46       65.0  \n",
      "2                 117.0     7.3  157606.0              138.12       62.0  \n",
      "3                 108.0     7.2   60545.0              270.32       59.0  \n",
      "4                 123.0     6.2  393727.0              325.02       40.0  \n",
      "5                 103.0     6.1   56036.0               45.13       42.0  \n",
      "...                 ...     ...       ...                 ...        ...  \n",
      "996                94.0     5.5   73152.0               17.54       46.0  \n",
      "997                98.0     6.2   70699.0               58.01       50.0  \n",
      "998                93.0     5.6    4881.0                 NaN       22.0  \n",
      "999                87.0     5.3   12435.0               19.64       11.0  \n",
      "1000                NaN     NaN       NaN                 NaN        NaN  \n",
      "\n",
      "[1000 rows x 12 columns]\n"
     ]
    }
   ],
   "source": [
    "# Read data with specified explicit index\n",
    "df_index = pd.DataFrame(df, index=df.loc[:,'Rank'])\n",
    "\n",
    "print(df_index)"
   ]
  },
  {
   "cell_type": "markdown",
   "id": "f449d3ea-91fe-45f5-8d6b-e6ccab3502d7",
   "metadata": {
    "tags": []
   },
   "source": [
    "### 2. View Data\n",
    "#### As we go through this section, write your own definitions of what each function does as a comment in the code box."
   ]
  },
  {
   "cell_type": "code",
   "execution_count": 5,
   "id": "ac9b2d61-7ed5-4e83-995d-c498036f37f9",
   "metadata": {},
   "outputs": [
    {
     "name": "stdout",
     "output_type": "stream",
     "text": [
      "      Rank           Title                     Genre  \\\n",
      "Rank                                                   \n",
      "1      2.0      Prometheus  Adventure,Mystery,Sci-Fi   \n",
      "2      3.0           Split           Horror,Thriller   \n",
      "3      4.0            Sing   Animation,Comedy,Family   \n",
      "4      5.0   Suicide Squad  Action,Adventure,Fantasy   \n",
      "5      6.0  The Great Wall  Action,Adventure,Fantasy   \n",
      "\n",
      "                                            Description              Director  \\\n",
      "Rank                                                                            \n",
      "1     Following clues to the origin of mankind, a te...          Ridley Scott   \n",
      "2     Three girls are kidnapped by a man with a diag...    M. Night Shyamalan   \n",
      "3     In a city of humanoid animals, a hustling thea...  Christophe Lourdelet   \n",
      "4     A secret government agency recruits some of th...            David Ayer   \n",
      "5     European mercenaries searching for black powde...           Yimou Zhang   \n",
      "\n",
      "                                                 Actors    Year  \\\n",
      "Rank                                                              \n",
      "1     Noomi Rapace, Logan Marshall-Green, Michael Fa...  2012.0   \n",
      "2     James McAvoy, Anya Taylor-Joy, Haley Lu Richar...  2016.0   \n",
      "3     Matthew McConaughey,Reese Witherspoon, Seth Ma...  2016.0   \n",
      "4     Will Smith, Jared Leto, Margot Robbie, Viola D...  2016.0   \n",
      "5         Matt Damon, Tian Jing, Willem Dafoe, Andy Lau  2016.0   \n",
      "\n",
      "      Runtime (Minutes)  Rating     Votes  Revenue (Millions)  Metascore  \n",
      "Rank                                                                      \n",
      "1                 124.0     7.0  485820.0              126.46       65.0  \n",
      "2                 117.0     7.3  157606.0              138.12       62.0  \n",
      "3                 108.0     7.2   60545.0              270.32       59.0  \n",
      "4                 123.0     6.2  393727.0              325.02       40.0  \n",
      "5                 103.0     6.1   56036.0               45.13       42.0  \n"
     ]
    }
   ],
   "source": [
    "# Use the head() function to view the first 5 rows of the data set\n",
    "df_first_5 = df_index.head(5)\n",
    "print(df_first_5)"
   ]
  },
  {
   "cell_type": "code",
   "execution_count": 6,
   "id": "3fffca4b-90f4-4f73-a9af-f0b02886f8b3",
   "metadata": {},
   "outputs": [
    {
     "name": "stdout",
     "output_type": "stream",
     "text": [
      "        Rank                   Title                  Genre  \\\n",
      "Rank                                                          \n",
      "996    997.0         Hostel: Part II                 Horror   \n",
      "997    998.0  Step Up 2: The Streets    Drama,Music,Romance   \n",
      "998    999.0            Search Party       Adventure,Comedy   \n",
      "999   1000.0              Nine Lives  Comedy,Family,Fantasy   \n",
      "1000     NaN                     NaN                    NaN   \n",
      "\n",
      "                                            Description          Director  \\\n",
      "Rank                                                                        \n",
      "996   Three American college students studying abroa...          Eli Roth   \n",
      "997   Romantic sparks occur between two dance studen...        Jon M. Chu   \n",
      "998   A pair of friends embark on a mission to reuni...    Scot Armstrong   \n",
      "999   A stuffy businessman finds himself trapped ins...  Barry Sonnenfeld   \n",
      "1000                                                NaN               NaN   \n",
      "\n",
      "                                                 Actors    Year  \\\n",
      "Rank                                                              \n",
      "996   Lauren German, Heather Matarazzo, Bijou Philli...  2007.0   \n",
      "997   Robert Hoffman, Briana Evigan, Cassie Ventura,...  2008.0   \n",
      "998   Adam Pally, T.J. Miller, Thomas Middleditch,Sh...  2014.0   \n",
      "999   Kevin Spacey, Jennifer Garner, Robbie Amell,Ch...  2016.0   \n",
      "1000                                                NaN     NaN   \n",
      "\n",
      "      Runtime (Minutes)  Rating    Votes  Revenue (Millions)  Metascore  \n",
      "Rank                                                                     \n",
      "996                94.0     5.5  73152.0               17.54       46.0  \n",
      "997                98.0     6.2  70699.0               58.01       50.0  \n",
      "998                93.0     5.6   4881.0                 NaN       22.0  \n",
      "999                87.0     5.3  12435.0               19.64       11.0  \n",
      "1000                NaN     NaN      NaN                 NaN        NaN  \n"
     ]
    }
   ],
   "source": [
    "# Use the tail() function to view the last 5 rows of the data set\n",
    "df_last_5 = df_index.tail(5)\n",
    "print(df_last_5)"
   ]
  },
  {
   "cell_type": "markdown",
   "id": "e03bbc57-a8cf-48da-9057-3b1f6b642a08",
   "metadata": {},
   "source": [
    "### 3. Understand basic information about the data\n",
    "#### As we go through this section, write your own definitions of what each function does as a comment in the code box."
   ]
  },
  {
   "cell_type": "code",
   "execution_count": 7,
   "id": "f303e7fb-0e02-48e2-8390-66eefca899aa",
   "metadata": {},
   "outputs": [
    {
     "name": "stdout",
     "output_type": "stream",
     "text": [
      "<class 'pandas.core.frame.DataFrame'>\n",
      "RangeIndex: 1000 entries, 0 to 999\n",
      "Data columns (total 12 columns):\n",
      " #   Column              Non-Null Count  Dtype  \n",
      "---  ------              --------------  -----  \n",
      " 0   Rank                1000 non-null   int64  \n",
      " 1   Title               1000 non-null   object \n",
      " 2   Genre               1000 non-null   object \n",
      " 3   Description         1000 non-null   object \n",
      " 4   Director            1000 non-null   object \n",
      " 5   Actors              1000 non-null   object \n",
      " 6   Year                1000 non-null   int64  \n",
      " 7   Runtime (Minutes)   1000 non-null   int64  \n",
      " 8   Rating              1000 non-null   float64\n",
      " 9   Votes               1000 non-null   int64  \n",
      " 10  Revenue (Millions)  872 non-null    float64\n",
      " 11  Metascore           936 non-null    float64\n",
      "dtypes: float64(3), int64(4), object(5)\n",
      "memory usage: 93.9+ KB\n",
      "None\n"
     ]
    }
   ],
   "source": [
    "# The info() function: \n",
    "\n",
    "# Prints a summary of the DataFrame, including column data types, range of the index\n",
    "# and non-null values.\n",
    "\n",
    "print(df.info())\n"
   ]
  },
  {
   "cell_type": "code",
   "execution_count": 8,
   "id": "ade5ce1f-7a2a-4940-a0f9-eed7891154ff",
   "metadata": {},
   "outputs": [
    {
     "data": {
      "text/plain": [
       "(1000, 12)"
      ]
     },
     "execution_count": 8,
     "metadata": {},
     "output_type": "execute_result"
    }
   ],
   "source": [
    "# shape:\n",
    "# Returns a tuple representing the dimensions of your data structure\n",
    "df.shape\n",
    "\n",
    "# what information does shape provide? no. of rows and columns\n",
    "# what is the order? (rows, col)"
   ]
  },
  {
   "cell_type": "code",
   "execution_count": 9,
   "id": "791db782-5041-4259-a3e4-d14c6e2e248a",
   "metadata": {},
   "outputs": [
    {
     "data": {
      "text/plain": [
       "Index(['Rank', 'Title', 'Genre', 'Description', 'Director', 'Actors', 'Year',\n",
       "       'Runtime (Minutes)', 'Rating', 'Votes', 'Revenue (Millions)',\n",
       "       'Metascore'],\n",
       "      dtype='object')"
      ]
     },
     "execution_count": 9,
     "metadata": {},
     "output_type": "execute_result"
    }
   ],
   "source": [
    "# columns:\n",
    "# Accesses the column labels of a DataFrame as a list.\n",
    "df.columns\n",
    "# what information does columns provide? list of column names. and the data type of the index"
   ]
  },
  {
   "cell_type": "code",
   "execution_count": 10,
   "id": "994c8783-3f4b-4f56-b9fb-1b50193f1fab",
   "metadata": {},
   "outputs": [
    {
     "data": {
      "text/html": [
       "<div>\n",
       "<style scoped>\n",
       "    .dataframe tbody tr th:only-of-type {\n",
       "        vertical-align: middle;\n",
       "    }\n",
       "\n",
       "    .dataframe tbody tr th {\n",
       "        vertical-align: top;\n",
       "    }\n",
       "\n",
       "    .dataframe thead th {\n",
       "        text-align: right;\n",
       "    }\n",
       "</style>\n",
       "<table border=\"1\" class=\"dataframe\">\n",
       "  <thead>\n",
       "    <tr style=\"text-align: right;\">\n",
       "      <th></th>\n",
       "      <th>Rank</th>\n",
       "      <th>Year</th>\n",
       "      <th>Runtime (Minutes)</th>\n",
       "      <th>Rating</th>\n",
       "      <th>Votes</th>\n",
       "      <th>Revenue (Millions)</th>\n",
       "      <th>Metascore</th>\n",
       "    </tr>\n",
       "  </thead>\n",
       "  <tbody>\n",
       "    <tr>\n",
       "      <th>count</th>\n",
       "      <td>1000.000000</td>\n",
       "      <td>1000.000000</td>\n",
       "      <td>1000.000000</td>\n",
       "      <td>1000.000000</td>\n",
       "      <td>1.000000e+03</td>\n",
       "      <td>872.000000</td>\n",
       "      <td>936.000000</td>\n",
       "    </tr>\n",
       "    <tr>\n",
       "      <th>mean</th>\n",
       "      <td>500.500000</td>\n",
       "      <td>2012.783000</td>\n",
       "      <td>113.172000</td>\n",
       "      <td>6.723200</td>\n",
       "      <td>1.698083e+05</td>\n",
       "      <td>82.956376</td>\n",
       "      <td>58.985043</td>\n",
       "    </tr>\n",
       "    <tr>\n",
       "      <th>std</th>\n",
       "      <td>288.819436</td>\n",
       "      <td>3.205962</td>\n",
       "      <td>18.810908</td>\n",
       "      <td>0.945429</td>\n",
       "      <td>1.887626e+05</td>\n",
       "      <td>103.253540</td>\n",
       "      <td>17.194757</td>\n",
       "    </tr>\n",
       "    <tr>\n",
       "      <th>min</th>\n",
       "      <td>1.000000</td>\n",
       "      <td>2006.000000</td>\n",
       "      <td>66.000000</td>\n",
       "      <td>1.900000</td>\n",
       "      <td>6.100000e+01</td>\n",
       "      <td>0.000000</td>\n",
       "      <td>11.000000</td>\n",
       "    </tr>\n",
       "    <tr>\n",
       "      <th>25%</th>\n",
       "      <td>250.750000</td>\n",
       "      <td>2010.000000</td>\n",
       "      <td>100.000000</td>\n",
       "      <td>6.200000</td>\n",
       "      <td>3.630900e+04</td>\n",
       "      <td>13.270000</td>\n",
       "      <td>47.000000</td>\n",
       "    </tr>\n",
       "    <tr>\n",
       "      <th>50%</th>\n",
       "      <td>500.500000</td>\n",
       "      <td>2014.000000</td>\n",
       "      <td>111.000000</td>\n",
       "      <td>6.800000</td>\n",
       "      <td>1.107990e+05</td>\n",
       "      <td>47.985000</td>\n",
       "      <td>59.500000</td>\n",
       "    </tr>\n",
       "    <tr>\n",
       "      <th>75%</th>\n",
       "      <td>750.250000</td>\n",
       "      <td>2016.000000</td>\n",
       "      <td>123.000000</td>\n",
       "      <td>7.400000</td>\n",
       "      <td>2.399098e+05</td>\n",
       "      <td>113.715000</td>\n",
       "      <td>72.000000</td>\n",
       "    </tr>\n",
       "    <tr>\n",
       "      <th>max</th>\n",
       "      <td>1000.000000</td>\n",
       "      <td>2016.000000</td>\n",
       "      <td>191.000000</td>\n",
       "      <td>9.000000</td>\n",
       "      <td>1.791916e+06</td>\n",
       "      <td>936.630000</td>\n",
       "      <td>100.000000</td>\n",
       "    </tr>\n",
       "  </tbody>\n",
       "</table>\n",
       "</div>"
      ],
      "text/plain": [
       "              Rank         Year  Runtime (Minutes)       Rating         Votes  \\\n",
       "count  1000.000000  1000.000000        1000.000000  1000.000000  1.000000e+03   \n",
       "mean    500.500000  2012.783000         113.172000     6.723200  1.698083e+05   \n",
       "std     288.819436     3.205962          18.810908     0.945429  1.887626e+05   \n",
       "min       1.000000  2006.000000          66.000000     1.900000  6.100000e+01   \n",
       "25%     250.750000  2010.000000         100.000000     6.200000  3.630900e+04   \n",
       "50%     500.500000  2014.000000         111.000000     6.800000  1.107990e+05   \n",
       "75%     750.250000  2016.000000         123.000000     7.400000  2.399098e+05   \n",
       "max    1000.000000  2016.000000         191.000000     9.000000  1.791916e+06   \n",
       "\n",
       "       Revenue (Millions)   Metascore  \n",
       "count          872.000000  936.000000  \n",
       "mean            82.956376   58.985043  \n",
       "std            103.253540   17.194757  \n",
       "min              0.000000   11.000000  \n",
       "25%             13.270000   47.000000  \n",
       "50%             47.985000   59.500000  \n",
       "75%            113.715000   72.000000  \n",
       "max            936.630000  100.000000  "
      ]
     },
     "execution_count": 10,
     "metadata": {},
     "output_type": "execute_result"
    }
   ],
   "source": [
    "# The describe() function: \n",
    "# descriptive statistics of a DataFrame, such as mean, standard\n",
    "# deviation, min, max, and quartile values.\n",
    "\n",
    "df.describe()\n",
    "\n"
   ]
  },
  {
   "cell_type": "markdown",
   "id": "7293ea51-6d32-43ab-8d26-268bdea21de1",
   "metadata": {},
   "source": [
    "### 4. Data Selection -- Indexing and Slicing"
   ]
  },
  {
   "cell_type": "code",
   "execution_count": 14,
   "id": "b3e134af-4ef9-4a9f-9ee1-d507905764e7",
   "metadata": {},
   "outputs": [
    {
     "name": "stdout",
     "output_type": "stream",
     "text": [
      "0       Action,Adventure,Sci-Fi\n",
      "1      Adventure,Mystery,Sci-Fi\n",
      "2               Horror,Thriller\n",
      "3       Animation,Comedy,Family\n",
      "4      Action,Adventure,Fantasy\n",
      "                 ...           \n",
      "995         Crime,Drama,Mystery\n",
      "996                      Horror\n",
      "997         Drama,Music,Romance\n",
      "998            Adventure,Comedy\n",
      "999       Comedy,Family,Fantasy\n",
      "Name: Genre, Length: 1000, dtype: object\n"
     ]
    }
   ],
   "source": [
    "#  Extract data as series\n",
    "# define and print the variable 'genre'\n",
    "genre = pd.Series(df.loc[:,\"Genre\"])\n",
    "print(genre)\n"
   ]
  },
  {
   "cell_type": "code",
   "execution_count": 25,
   "id": "33307a39-0656-4598-8489-55bc80a253eb",
   "metadata": {},
   "outputs": [
    {
     "name": "stdout",
     "output_type": "stream",
     "text": [
      "                       Title                     Genre  \\\n",
      "0    Guardians of the Galaxy   Action,Adventure,Sci-Fi   \n",
      "1                 Prometheus  Adventure,Mystery,Sci-Fi   \n",
      "2                      Split           Horror,Thriller   \n",
      "3                       Sing   Animation,Comedy,Family   \n",
      "4              Suicide Squad  Action,Adventure,Fantasy   \n",
      "..                       ...                       ...   \n",
      "995     Secret in Their Eyes       Crime,Drama,Mystery   \n",
      "996          Hostel: Part II                    Horror   \n",
      "997   Step Up 2: The Streets       Drama,Music,Romance   \n",
      "998             Search Party          Adventure,Comedy   \n",
      "999               Nine Lives     Comedy,Family,Fantasy   \n",
      "\n",
      "                                           Description  \n",
      "0    A group of intergalactic criminals are forced ...  \n",
      "1    Following clues to the origin of mankind, a te...  \n",
      "2    Three girls are kidnapped by a man with a diag...  \n",
      "3    In a city of humanoid animals, a hustling thea...  \n",
      "4    A secret government agency recruits some of th...  \n",
      "..                                                 ...  \n",
      "995  A tight-knit team of rising investigators, alo...  \n",
      "996  Three American college students studying abroa...  \n",
      "997  Romantic sparks occur between two dance studen...  \n",
      "998  A pair of friends embark on a mission to reuni...  \n",
      "999  A stuffy businessman finds himself trapped ins...  \n",
      "\n",
      "[1000 rows x 3 columns]\n",
      "     Rating   Votes  Revenue (Millions)\n",
      "0       8.1  757074              333.13\n",
      "1       7.0  485820              126.46\n",
      "2       7.3  157606              138.12\n",
      "3       7.2   60545              270.32\n",
      "4       6.2  393727              325.02\n",
      "..      ...     ...                 ...\n",
      "995     6.2   27585                 NaN\n",
      "996     5.5   73152               17.54\n",
      "997     6.2   70699               58.01\n",
      "998     5.6    4881                 NaN\n",
      "999     5.3   12435               19.64\n",
      "\n",
      "[1000 rows x 3 columns]\n"
     ]
    }
   ],
   "source": [
    "# Extract the data as a dataframe and print it\n",
    "df_subset = df.iloc[:,[1,2,3]]\n",
    "df_subset2 = df.loc[:,['Rating', 'Votes', 'Revenue (Millions)']]\n",
    "print(df_subset)\n",
    "print(df_subset2)\n"
   ]
  },
  {
   "cell_type": "code",
   "execution_count": 30,
   "id": "0530ffd1-e143-4a7a-a4e2-c2e88de188f9",
   "metadata": {},
   "outputs": [
    {
     "data": {
      "text/plain": [
       "0      Guardians of the Galaxy\n",
       "1                   Prometheus\n",
       "2                        Split\n",
       "3                         Sing\n",
       "4                Suicide Squad\n",
       "                ...           \n",
       "995       Secret in Their Eyes\n",
       "996            Hostel: Part II\n",
       "997     Step Up 2: The Streets\n",
       "998               Search Party\n",
       "999                 Nine Lives\n",
       "Name: Title, Length: 1000, dtype: object"
      ]
     },
     "execution_count": 30,
     "metadata": {},
     "output_type": "execute_result"
    }
   ],
   "source": [
    "# Extract data using rows\n",
    "# loc function\n",
    "df.loc[:,'Title']\n"
   ]
  },
  {
   "cell_type": "code",
   "execution_count": 27,
   "id": "7ed5a16d-7302-4c0c-bf9e-0295a8cee090",
   "metadata": {},
   "outputs": [
    {
     "data": {
      "text/plain": [
       "Rank                                                                6.0\n",
       "Title                                                    The Great Wall\n",
       "Genre                                          Action,Adventure,Fantasy\n",
       "Description           European mercenaries searching for black powde...\n",
       "Director                                                    Yimou Zhang\n",
       "Actors                    Matt Damon, Tian Jing, Willem Dafoe, Andy Lau\n",
       "Year                                                             2016.0\n",
       "Runtime (Minutes)                                                 103.0\n",
       "Rating                                                              6.1\n",
       "Votes                                                           56036.0\n",
       "Revenue (Millions)                                                45.13\n",
       "Metascore                                                          42.0\n",
       "Name: 5, dtype: object"
      ]
     },
     "execution_count": 27,
     "metadata": {},
     "output_type": "execute_result"
    }
   ],
   "source": [
    "# iloc function\n",
    "df_index.iloc[4]\n"
   ]
  },
  {
   "cell_type": "markdown",
   "id": "35d10282-730f-49c3-bca1-55a990811c80",
   "metadata": {},
   "source": [
    "### 5. Data Selection - Based on Conditional Filtering"
   ]
  },
  {
   "cell_type": "code",
   "execution_count": 52,
   "id": "97cac6a1-dd88-4a8c-86e8-514312bf1bb0",
   "metadata": {},
   "outputs": [
    {
     "name": "stdout",
     "output_type": "stream",
     "text": [
      "24     103.14\n",
      "27       0.01\n",
      "29      54.65\n",
      "34      26.84\n",
      "42        NaN\n",
      "        ...  \n",
      "985     21.56\n",
      "986     42.58\n",
      "993     60.13\n",
      "998       NaN\n",
      "999     19.64\n",
      "Name: Revenue (Millions), Length: 160, dtype: float64\n"
     ]
    }
   ],
   "source": [
    "# Use the code block to select movies that have been released between 2010-2016, with a rating of less than 6.0, \n",
    "# but generated a signifianct (top) revenue.\n",
    "result_set = df[(df['Year']>=2010) & (df['Year']<=2016) & (df['Rating']<6.0)]\n",
    "gchjgk=result_set.loc[:,'Revenue (Millions)']\n",
    "# gchjgk.sort_values(by='Revenue (Millions)', ascending=False)\n",
    "print(gchjgk)"
   ]
  },
  {
   "cell_type": "code",
   "execution_count": 117,
   "id": "f0c045a1-200a-4d58-9b9f-480edb106765",
   "metadata": {},
   "outputs": [],
   "source": [
    "# Note: The article is expecting more than 1 Twilight movie at the time of publishing.  \n",
    "#To find the second Twilight movie, try manipulating the quantile value.  \n",
    "#How specific can you get?"
   ]
  },
  {
   "cell_type": "code",
   "execution_count": null,
   "id": "5f04a46e-5d8e-4bda-a917-945bdc81a9e2",
   "metadata": {},
   "outputs": [],
   "source": []
  }
 ],
 "metadata": {
  "kernelspec": {
   "display_name": "Python 3 (ipykernel)",
   "language": "python",
   "name": "python3"
  },
  "language_info": {
   "codemirror_mode": {
    "name": "ipython",
    "version": 3
   },
   "file_extension": ".py",
   "mimetype": "text/x-python",
   "name": "python",
   "nbconvert_exporter": "python",
   "pygments_lexer": "ipython3",
   "version": "3.8.8"
  }
 },
 "nbformat": 4,
 "nbformat_minor": 5
}
