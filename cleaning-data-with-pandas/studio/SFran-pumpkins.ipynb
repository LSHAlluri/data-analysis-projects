{
 "cells": [
  {
   "cell_type": "markdown",
   "id": "3a62c41d",
   "metadata": {},
   "source": [
    "# Data Cleaning Studio\n",
    "\n",
    "You are part of a team working for an agricultural nonprofit based in California. Your nonprofit focuses on helping farmers in the state grow profitable crops in environmentally-friendly ways in an effort to reduce the impact of climate change on the state and provide enough food for the state's 39.5 million residents. With Halloween on the horizon, you and your team are looking to analyze past pumpkin crops to try and answer several questions:\n",
    "1. Are pumpkins sold at terminal markets in California (San Francisco and Los Angeles) grown in California?\n",
    "1. Is the harvest season for pumpkins grown in California consistent year-to-year?\n",
    "1. Are pumpkin farmers growing specific varieties of pumpkins for specific reasons?\n",
    "\n",
    "The answers to these questions will help your nonprofit decide if they should promote specific varieties or growing practices to the farmers they serve in time for seeds to be planted next year. Your team has already performed some exploratory analysis on the San Francisco terminal market report of pumpkin sales from 9/2016-9/2017. Now it is time to clean the data!\n",
    "\n",
    "Before diving in to cleaning the data, here is a quick guide to the different columns in the USDA report and what they mean:\n",
    "- Commodity Name: This CSV structure is used for lots of USDA reports. In this case, the commodity is pumpkins\n",
    "- City Name: City where the pumpkin was sold. The city is a terminal market location within the United States.\n",
    "- Type: This refers to the type of farming used in growing the pumpkins\n",
    "- Package: The way the pumpkins were packed for sale\n",
    "- Variety: Specific type of pumpkin, i.e. pie pumpkin or a Howden pumpkin\n",
    "- Sub Variety: Addition classifications about the pumpkins, i.e. is it a flat pumpkin?\n",
    "- Grade: In the US, usually only canned pumpkin is graded\n",
    "- Date: Date of sale (rounded up to the nearest Saturday)\n",
    "- Low Price: This price is in reference to sale price\n",
    "- High Price: This price is in reference to sale price\n",
    "- Mostly Low: This column is not measured for pumpkins\n",
    "- Mostly High: This column is not measured for pumpkins\n",
    "- Origin: Which state the pumpkins were grown in\n",
    "- Origin District: Additional information about pumpkins' origin location\n",
    "- Item Size: Abbreviations denoting size, i.e. jbo = jumbo, lrg = large\n",
    "- Color: Color of pumpkins\n",
    "- Environment: Additional information about pumpkins' growing environment\n",
    "- Unit of Sale: The unit the customer bought at market, i.e. if they bought pumpkins by the pound, the data should say \"PER LB\" or  if they bought pumpkins by the bin, it would say \"PER BIN\"\n",
    "- Quality: Additional notes about pumpkin quality as necessary\n",
    "- Condition: Additional notes about pumpkin condition as necessary\n",
    "- Appearance: Additional notes about pumpkin appearance as necessary\n",
    "- Storage: Additional notes about pumpkin storage as necessary\n",
    "- Crop: Additional notes about pumpkin crop as necessary\n",
    "- Repack: Whether the pumpkin has been repackaged before sale\n",
    "- Trans Mode: Mode of transportation used to get pumpkins to terminal market"
   ]
  },
  {
   "cell_type": "code",
   "execution_count": 2,
   "id": "f15f403d",
   "metadata": {},
   "outputs": [],
   "source": [
    "import pandas as pd\n",
    "import matplotlib \n",
    "import matplotlib.pyplot as plt\n",
    "import numpy as np\n",
    "\n",
    "data = pd.read_csv(\"san-fransisco_9-24-2016_9-30-2017.csv\")"
   ]
  },
  {
   "cell_type": "code",
   "execution_count": 107,
   "id": "c57d63be",
   "metadata": {},
   "outputs": [
    {
     "data": {
      "text/html": [
       "<div>\n",
       "<style scoped>\n",
       "    .dataframe tbody tr th:only-of-type {\n",
       "        vertical-align: middle;\n",
       "    }\n",
       "\n",
       "    .dataframe tbody tr th {\n",
       "        vertical-align: top;\n",
       "    }\n",
       "\n",
       "    .dataframe thead th {\n",
       "        text-align: right;\n",
       "    }\n",
       "</style>\n",
       "<table border=\"1\" class=\"dataframe\">\n",
       "  <thead>\n",
       "    <tr style=\"text-align: right;\">\n",
       "      <th></th>\n",
       "      <th>Commodity Name</th>\n",
       "      <th>City Name</th>\n",
       "      <th>Type</th>\n",
       "      <th>Package</th>\n",
       "      <th>Variety</th>\n",
       "      <th>Sub Variety</th>\n",
       "      <th>Grade</th>\n",
       "      <th>Date</th>\n",
       "      <th>Low Price</th>\n",
       "      <th>High Price</th>\n",
       "      <th>...</th>\n",
       "      <th>Color</th>\n",
       "      <th>Environment</th>\n",
       "      <th>Unit of Sale</th>\n",
       "      <th>Quality</th>\n",
       "      <th>Condition</th>\n",
       "      <th>Appearance</th>\n",
       "      <th>Storage</th>\n",
       "      <th>Crop</th>\n",
       "      <th>Repack</th>\n",
       "      <th>Trans Mode</th>\n",
       "    </tr>\n",
       "  </thead>\n",
       "  <tbody>\n",
       "    <tr>\n",
       "      <th>0</th>\n",
       "      <td>PUMPKINS</td>\n",
       "      <td>SAN FRANCISCO</td>\n",
       "      <td>NaN</td>\n",
       "      <td>24 inch bins</td>\n",
       "      <td>HOWDEN TYPE</td>\n",
       "      <td>NaN</td>\n",
       "      <td>NaN</td>\n",
       "      <td>09/24/2016</td>\n",
       "      <td>155.0</td>\n",
       "      <td>155.0</td>\n",
       "      <td>...</td>\n",
       "      <td>NaN</td>\n",
       "      <td>NaN</td>\n",
       "      <td>NaN</td>\n",
       "      <td>NaN</td>\n",
       "      <td>NaN</td>\n",
       "      <td>NaN</td>\n",
       "      <td>NaN</td>\n",
       "      <td>NaN</td>\n",
       "      <td>N</td>\n",
       "      <td>NaN</td>\n",
       "    </tr>\n",
       "    <tr>\n",
       "      <th>1</th>\n",
       "      <td>PUMPKINS</td>\n",
       "      <td>SAN FRANCISCO</td>\n",
       "      <td>NaN</td>\n",
       "      <td>24 inch bins</td>\n",
       "      <td>HOWDEN TYPE</td>\n",
       "      <td>NaN</td>\n",
       "      <td>NaN</td>\n",
       "      <td>10/01/2016</td>\n",
       "      <td>155.0</td>\n",
       "      <td>155.0</td>\n",
       "      <td>...</td>\n",
       "      <td>NaN</td>\n",
       "      <td>NaN</td>\n",
       "      <td>NaN</td>\n",
       "      <td>NaN</td>\n",
       "      <td>NaN</td>\n",
       "      <td>NaN</td>\n",
       "      <td>NaN</td>\n",
       "      <td>NaN</td>\n",
       "      <td>N</td>\n",
       "      <td>NaN</td>\n",
       "    </tr>\n",
       "    <tr>\n",
       "      <th>2</th>\n",
       "      <td>PUMPKINS</td>\n",
       "      <td>SAN FRANCISCO</td>\n",
       "      <td>NaN</td>\n",
       "      <td>24 inch bins</td>\n",
       "      <td>HOWDEN TYPE</td>\n",
       "      <td>NaN</td>\n",
       "      <td>NaN</td>\n",
       "      <td>10/01/2016</td>\n",
       "      <td>155.0</td>\n",
       "      <td>155.0</td>\n",
       "      <td>...</td>\n",
       "      <td>NaN</td>\n",
       "      <td>NaN</td>\n",
       "      <td>NaN</td>\n",
       "      <td>NaN</td>\n",
       "      <td>NaN</td>\n",
       "      <td>NaN</td>\n",
       "      <td>NaN</td>\n",
       "      <td>NaN</td>\n",
       "      <td>N</td>\n",
       "      <td>NaN</td>\n",
       "    </tr>\n",
       "    <tr>\n",
       "      <th>3</th>\n",
       "      <td>PUMPKINS</td>\n",
       "      <td>SAN FRANCISCO</td>\n",
       "      <td>NaN</td>\n",
       "      <td>24 inch bins</td>\n",
       "      <td>HOWDEN TYPE</td>\n",
       "      <td>NaN</td>\n",
       "      <td>NaN</td>\n",
       "      <td>10/01/2016</td>\n",
       "      <td>135.0</td>\n",
       "      <td>135.0</td>\n",
       "      <td>...</td>\n",
       "      <td>NaN</td>\n",
       "      <td>NaN</td>\n",
       "      <td>NaN</td>\n",
       "      <td>NaN</td>\n",
       "      <td>NaN</td>\n",
       "      <td>NaN</td>\n",
       "      <td>NaN</td>\n",
       "      <td>NaN</td>\n",
       "      <td>N</td>\n",
       "      <td>NaN</td>\n",
       "    </tr>\n",
       "    <tr>\n",
       "      <th>4</th>\n",
       "      <td>PUMPKINS</td>\n",
       "      <td>SAN FRANCISCO</td>\n",
       "      <td>NaN</td>\n",
       "      <td>24 inch bins</td>\n",
       "      <td>HOWDEN TYPE</td>\n",
       "      <td>NaN</td>\n",
       "      <td>NaN</td>\n",
       "      <td>10/08/2016</td>\n",
       "      <td>135.0</td>\n",
       "      <td>150.0</td>\n",
       "      <td>...</td>\n",
       "      <td>NaN</td>\n",
       "      <td>NaN</td>\n",
       "      <td>NaN</td>\n",
       "      <td>NaN</td>\n",
       "      <td>NaN</td>\n",
       "      <td>NaN</td>\n",
       "      <td>NaN</td>\n",
       "      <td>NaN</td>\n",
       "      <td>N</td>\n",
       "      <td>NaN</td>\n",
       "    </tr>\n",
       "  </tbody>\n",
       "</table>\n",
       "<p>5 rows × 25 columns</p>\n",
       "</div>"
      ],
      "text/plain": [
       "  Commodity Name      City Name Type       Package      Variety Sub Variety  \\\n",
       "0       PUMPKINS  SAN FRANCISCO  NaN  24 inch bins  HOWDEN TYPE         NaN   \n",
       "1       PUMPKINS  SAN FRANCISCO  NaN  24 inch bins  HOWDEN TYPE         NaN   \n",
       "2       PUMPKINS  SAN FRANCISCO  NaN  24 inch bins  HOWDEN TYPE         NaN   \n",
       "3       PUMPKINS  SAN FRANCISCO  NaN  24 inch bins  HOWDEN TYPE         NaN   \n",
       "4       PUMPKINS  SAN FRANCISCO  NaN  24 inch bins  HOWDEN TYPE         NaN   \n",
       "\n",
       "   Grade        Date  Low Price  High Price  ...  Color  Environment  \\\n",
       "0    NaN  09/24/2016      155.0       155.0  ...    NaN          NaN   \n",
       "1    NaN  10/01/2016      155.0       155.0  ...    NaN          NaN   \n",
       "2    NaN  10/01/2016      155.0       155.0  ...    NaN          NaN   \n",
       "3    NaN  10/01/2016      135.0       135.0  ...    NaN          NaN   \n",
       "4    NaN  10/08/2016      135.0       150.0  ...    NaN          NaN   \n",
       "\n",
       "  Unit of Sale  Quality Condition Appearance  Storage  Crop  Repack  \\\n",
       "0          NaN      NaN       NaN        NaN      NaN   NaN       N   \n",
       "1          NaN      NaN       NaN        NaN      NaN   NaN       N   \n",
       "2          NaN      NaN       NaN        NaN      NaN   NaN       N   \n",
       "3          NaN      NaN       NaN        NaN      NaN   NaN       N   \n",
       "4          NaN      NaN       NaN        NaN      NaN   NaN       N   \n",
       "\n",
       "   Trans Mode  \n",
       "0         NaN  \n",
       "1         NaN  \n",
       "2         NaN  \n",
       "3         NaN  \n",
       "4         NaN  \n",
       "\n",
       "[5 rows x 25 columns]"
      ]
     },
     "execution_count": 107,
     "metadata": {},
     "output_type": "execute_result"
    }
   ],
   "source": [
    "data.head()"
   ]
  },
  {
   "cell_type": "code",
   "execution_count": 108,
   "id": "224ac9e3",
   "metadata": {
    "scrolled": true
   },
   "outputs": [
    {
     "name": "stdout",
     "output_type": "stream",
     "text": [
      "Commodity Name - 0%\n",
      "City Name - 0%\n",
      "Type - 78%\n",
      "Package - 0%\n",
      "Variety - 0%\n",
      "Sub Variety - 61%\n",
      "Grade - 100%\n",
      "Date - 0%\n",
      "Low Price - 0%\n",
      "High Price - 0%\n",
      "Mostly Low - 0%\n",
      "Mostly High - 0%\n",
      "Origin - 0%\n",
      "Origin District - 100%\n",
      "Item Size - 75%\n",
      "Color - 72%\n",
      "Environment - 100%\n",
      "Unit of Sale - 100%\n",
      "Quality - 100%\n",
      "Condition - 100%\n",
      "Appearance - 100%\n",
      "Storage - 100%\n",
      "Crop - 100%\n",
      "Repack - 0%\n",
      "Trans Mode - 100%\n"
     ]
    }
   ],
   "source": [
    "for col in data.columns:\n",
    "    pct_missing = np.mean(data[col].isnull())\n",
    "    print('{} - {}%'.format(col, round(pct_missing*100)))"
   ]
  },
  {
   "cell_type": "code",
   "execution_count": 109,
   "id": "bbc182d9",
   "metadata": {},
   "outputs": [
    {
     "name": "stdout",
     "output_type": "stream",
     "text": [
      "51.0 % Missing cells from the data\n"
     ]
    }
   ],
   "source": [
    "# Checking the overall percentage of missing data from the data set\n",
    "\n",
    "total_cells = np.product(data.shape)\n",
    "\n",
    "missing_cells = pd.isnull(data).sum()\n",
    "\n",
    "total_missing = missing_cells.sum()\n",
    "\n",
    "percentage_missing = round((total_missing/total_cells), 2) *100\n",
    "\n",
    "print(percentage_missing, \"% Missing cells from the data\")    "
   ]
  },
  {
   "cell_type": "markdown",
   "id": "e900b3e3",
   "metadata": {},
   "source": [
    "### Question 1: \n",
    "\n",
    "Look at the percentages of missing data per coluum.  There are quite a few columns with less than 100% of the data.  What do you want to do with each column?   Consider the following options for each and write down your thoughts in a box below this one.\n",
    "1. Drop the Observation\n",
    "1. Drop the Feature\n",
    "1. Impute the Missing Values\n",
    "1. Replace the Missing Values"
   ]
  },
  {
   "cell_type": "code",
   "execution_count": 110,
   "id": "9c80fb27",
   "metadata": {},
   "outputs": [],
   "source": [
    "# Answer Question 1 here:\n",
    "Keep the following columns as they might be useful to answer the 3rd part of the business issue - \n",
    "Are pumpkin farmers growing specific varieties of pumpkins for specific reasons?\n",
    "Type - 78%\n",
    "Sub Variety - 61%\n",
    "Item Size - 75%\n",
    "Color - 72%\n",
    "\n",
    "Drop the following columns as they are not required to answer the business issue.\n",
    "Grade - 100%\n",
    "Origin District - 100%   \n",
    "Environment - 100%\n",
    "Unit of Sale - 100%\n",
    "Quality - 100%\n",
    "Condition - 100%\n",
    "Appearance - 100%\n",
    "Storage - 100%\n",
    "Crop - 100%\n",
    "Trans Mode - 100%\n",
    "\n",
    "\n",
    "we also can drop origin_district as we have origin and city name.\n"
   ]
  },
  {
   "cell_type": "code",
   "execution_count": 111,
   "id": "c2965056",
   "metadata": {},
   "outputs": [
    {
     "data": {
      "text/html": [
       "<div>\n",
       "<style scoped>\n",
       "    .dataframe tbody tr th:only-of-type {\n",
       "        vertical-align: middle;\n",
       "    }\n",
       "\n",
       "    .dataframe tbody tr th {\n",
       "        vertical-align: top;\n",
       "    }\n",
       "\n",
       "    .dataframe thead th {\n",
       "        text-align: right;\n",
       "    }\n",
       "</style>\n",
       "<table border=\"1\" class=\"dataframe\">\n",
       "  <thead>\n",
       "    <tr style=\"text-align: right;\">\n",
       "      <th></th>\n",
       "      <th>Commodity Name</th>\n",
       "      <th>City Name</th>\n",
       "      <th>Type</th>\n",
       "      <th>Package</th>\n",
       "      <th>Variety</th>\n",
       "      <th>Sub Variety</th>\n",
       "      <th>Grade</th>\n",
       "      <th>Date</th>\n",
       "      <th>Low Price</th>\n",
       "      <th>High Price</th>\n",
       "      <th>...</th>\n",
       "      <th>Color</th>\n",
       "      <th>Environment</th>\n",
       "      <th>Unit of Sale</th>\n",
       "      <th>Quality</th>\n",
       "      <th>Condition</th>\n",
       "      <th>Appearance</th>\n",
       "      <th>Storage</th>\n",
       "      <th>Crop</th>\n",
       "      <th>Repack</th>\n",
       "      <th>Trans Mode</th>\n",
       "    </tr>\n",
       "  </thead>\n",
       "  <tbody>\n",
       "    <tr>\n",
       "      <th>0</th>\n",
       "      <td>PUMPKINS</td>\n",
       "      <td>SAN FRANCISCO</td>\n",
       "      <td>NaN</td>\n",
       "      <td>24 inch bins</td>\n",
       "      <td>HOWDEN TYPE</td>\n",
       "      <td>NaN</td>\n",
       "      <td>NaN</td>\n",
       "      <td>09/24/2016</td>\n",
       "      <td>155.0</td>\n",
       "      <td>155.0</td>\n",
       "      <td>...</td>\n",
       "      <td>NaN</td>\n",
       "      <td>NaN</td>\n",
       "      <td>NaN</td>\n",
       "      <td>NaN</td>\n",
       "      <td>NaN</td>\n",
       "      <td>NaN</td>\n",
       "      <td>NaN</td>\n",
       "      <td>NaN</td>\n",
       "      <td>False</td>\n",
       "      <td>NaN</td>\n",
       "    </tr>\n",
       "    <tr>\n",
       "      <th>1</th>\n",
       "      <td>PUMPKINS</td>\n",
       "      <td>SAN FRANCISCO</td>\n",
       "      <td>NaN</td>\n",
       "      <td>24 inch bins</td>\n",
       "      <td>HOWDEN TYPE</td>\n",
       "      <td>NaN</td>\n",
       "      <td>NaN</td>\n",
       "      <td>10/01/2016</td>\n",
       "      <td>155.0</td>\n",
       "      <td>155.0</td>\n",
       "      <td>...</td>\n",
       "      <td>NaN</td>\n",
       "      <td>NaN</td>\n",
       "      <td>NaN</td>\n",
       "      <td>NaN</td>\n",
       "      <td>NaN</td>\n",
       "      <td>NaN</td>\n",
       "      <td>NaN</td>\n",
       "      <td>NaN</td>\n",
       "      <td>False</td>\n",
       "      <td>NaN</td>\n",
       "    </tr>\n",
       "    <tr>\n",
       "      <th>2</th>\n",
       "      <td>PUMPKINS</td>\n",
       "      <td>SAN FRANCISCO</td>\n",
       "      <td>NaN</td>\n",
       "      <td>24 inch bins</td>\n",
       "      <td>HOWDEN TYPE</td>\n",
       "      <td>NaN</td>\n",
       "      <td>NaN</td>\n",
       "      <td>10/01/2016</td>\n",
       "      <td>155.0</td>\n",
       "      <td>155.0</td>\n",
       "      <td>...</td>\n",
       "      <td>NaN</td>\n",
       "      <td>NaN</td>\n",
       "      <td>NaN</td>\n",
       "      <td>NaN</td>\n",
       "      <td>NaN</td>\n",
       "      <td>NaN</td>\n",
       "      <td>NaN</td>\n",
       "      <td>NaN</td>\n",
       "      <td>False</td>\n",
       "      <td>NaN</td>\n",
       "    </tr>\n",
       "  </tbody>\n",
       "</table>\n",
       "<p>3 rows × 25 columns</p>\n",
       "</div>"
      ],
      "text/plain": [
       "  Commodity Name      City Name Type       Package      Variety Sub Variety  \\\n",
       "0       PUMPKINS  SAN FRANCISCO  NaN  24 inch bins  HOWDEN TYPE         NaN   \n",
       "1       PUMPKINS  SAN FRANCISCO  NaN  24 inch bins  HOWDEN TYPE         NaN   \n",
       "2       PUMPKINS  SAN FRANCISCO  NaN  24 inch bins  HOWDEN TYPE         NaN   \n",
       "\n",
       "   Grade        Date  Low Price  High Price  ...  Color  Environment  \\\n",
       "0    NaN  09/24/2016      155.0       155.0  ...    NaN          NaN   \n",
       "1    NaN  10/01/2016      155.0       155.0  ...    NaN          NaN   \n",
       "2    NaN  10/01/2016      155.0       155.0  ...    NaN          NaN   \n",
       "\n",
       "  Unit of Sale  Quality Condition Appearance  Storage  Crop  Repack  \\\n",
       "0          NaN      NaN       NaN        NaN      NaN   NaN   False   \n",
       "1          NaN      NaN       NaN        NaN      NaN   NaN   False   \n",
       "2          NaN      NaN       NaN        NaN      NaN   NaN   False   \n",
       "\n",
       "   Trans Mode  \n",
       "0         NaN  \n",
       "1         NaN  \n",
       "2         NaN  \n",
       "\n",
       "[3 rows x 25 columns]"
      ]
     },
     "execution_count": 111,
     "metadata": {},
     "output_type": "execute_result"
    }
   ],
   "source": [
    "# Repack Column\n",
    "data[\"Repack\"] = data[\"Repack\"].replace({\"N\":False})\n",
    "#Check status with a quick head check\n",
    "data.head(3)"
   ]
  },
  {
   "cell_type": "markdown",
   "id": "a8f08339",
   "metadata": {},
   "source": [
    "# Question 2:\n",
    "\n",
    "Look at the \"Type\" column.  This column contains two values, \"Organic\" and \"NaN\".  \n",
    "When it comes to food, food is either typically designated as \"Organic\" or \"Conventional\" based on farming practices.  \n",
    "\n",
    "Do you think we should update the \"NaN\" values to \"Conventional\"?  Why or Why not?"
   ]
  },
  {
   "cell_type": "code",
   "execution_count": 112,
   "id": "b5b7c63c",
   "metadata": {},
   "outputs": [],
   "source": [
    "# Answers Question 2:\n",
    "We should update \"Nan\" values to \"Conventional\", because food is either typically designated as \n",
    "\"Organic\" or \"Conventional\" so its safe to rename \"Nan\" to \"Conventional\".\n",
    "\n"
   ]
  },
  {
   "cell_type": "code",
   "execution_count": 5,
   "id": "9479f294",
   "metadata": {},
   "outputs": [
    {
     "name": "stdout",
     "output_type": "stream",
     "text": [
      "    Commodity Name      City Name          Type        Package      Variety  \\\n",
      "0         PUMPKINS  SAN FRANCISCO  Conventional   24 inch bins  HOWDEN TYPE   \n",
      "1         PUMPKINS  SAN FRANCISCO  Conventional   24 inch bins  HOWDEN TYPE   \n",
      "2         PUMPKINS  SAN FRANCISCO  Conventional   24 inch bins  HOWDEN TYPE   \n",
      "3         PUMPKINS  SAN FRANCISCO  Conventional   24 inch bins  HOWDEN TYPE   \n",
      "4         PUMPKINS  SAN FRANCISCO  Conventional   24 inch bins  HOWDEN TYPE   \n",
      "..             ...            ...           ...            ...          ...   \n",
      "161       PUMPKINS  SAN FRANCISCO  Conventional  40 lb cartons    MINIATURE   \n",
      "162       PUMPKINS  SAN FRANCISCO  Conventional  40 lb cartons    MINIATURE   \n",
      "163       PUMPKINS  SAN FRANCISCO  Conventional  40 lb cartons    MINIATURE   \n",
      "164       PUMPKINS  SAN FRANCISCO  Conventional  40 lb cartons    MINIATURE   \n",
      "165       PUMPKINS  SAN FRANCISCO  Conventional  40 lb cartons    MINIATURE   \n",
      "\n",
      "    Sub Variety  Grade        Date  Low Price  High Price  ...  Color  \\\n",
      "0           NaN    NaN  09/24/2016      155.0       155.0  ...    NaN   \n",
      "1           NaN    NaN  10/01/2016      155.0       155.0  ...    NaN   \n",
      "2           NaN    NaN  10/01/2016      155.0       155.0  ...    NaN   \n",
      "3           NaN    NaN  10/01/2016      135.0       135.0  ...    NaN   \n",
      "4           NaN    NaN  10/08/2016      135.0       150.0  ...    NaN   \n",
      "..          ...    ...         ...        ...         ...  ...    ...   \n",
      "161  ROUND TYPE    NaN  10/08/2016       30.0        35.0  ...    NaN   \n",
      "162  ROUND TYPE    NaN  10/15/2016       30.0        35.0  ...    NaN   \n",
      "163  ROUND TYPE    NaN  10/22/2016       30.0        35.0  ...    NaN   \n",
      "164  ROUND TYPE    NaN  10/29/2016       30.0        30.0  ...    NaN   \n",
      "165  ROUND TYPE    NaN  11/05/2016       30.0        30.0  ...    NaN   \n",
      "\n",
      "     Environment Unit of Sale  Quality Condition Appearance  Storage  Crop  \\\n",
      "0            NaN          NaN      NaN       NaN        NaN      NaN   NaN   \n",
      "1            NaN          NaN      NaN       NaN        NaN      NaN   NaN   \n",
      "2            NaN          NaN      NaN       NaN        NaN      NaN   NaN   \n",
      "3            NaN          NaN      NaN       NaN        NaN      NaN   NaN   \n",
      "4            NaN          NaN      NaN       NaN        NaN      NaN   NaN   \n",
      "..           ...          ...      ...       ...        ...      ...   ...   \n",
      "161          NaN          NaN      NaN       NaN        NaN      NaN   NaN   \n",
      "162          NaN          NaN      NaN       NaN        NaN      NaN   NaN   \n",
      "163          NaN          NaN      NaN       NaN        NaN      NaN   NaN   \n",
      "164          NaN          NaN      NaN       NaN        NaN      NaN   NaN   \n",
      "165          NaN          NaN      NaN       NaN        NaN      NaN   NaN   \n",
      "\n",
      "     Repack  Trans Mode  \n",
      "0         N         NaN  \n",
      "1         N         NaN  \n",
      "2         N         NaN  \n",
      "3         N         NaN  \n",
      "4         N         NaN  \n",
      "..      ...         ...  \n",
      "161       N         NaN  \n",
      "162       N         NaN  \n",
      "163       N         NaN  \n",
      "164       N         NaN  \n",
      "165       N         NaN  \n",
      "\n",
      "[166 rows x 25 columns]\n"
     ]
    }
   ],
   "source": [
    "# Fill the Missing Values in the Type Column\n",
    "data[\"Type\"] = data[\"Type\"].fillna(\"Conventional\")\n",
    "print(data)"
   ]
  },
  {
   "cell_type": "markdown",
   "id": "94b4c7ce",
   "metadata": {},
   "source": [
    "# Question 3\n",
    "\n",
    "Based on the information provided by our team, \"Grade\" is only applied to canned pumpkin.  \n",
    "These were all uncanned, whole pumpkins.  This column is irrelevant to the dataset.\n",
    "\n",
    "We are going to drop the column.  Do you agree with this choice?  Why or why not?"
   ]
  },
  {
   "cell_type": "code",
   "execution_count": 114,
   "id": "1302d998",
   "metadata": {},
   "outputs": [],
   "source": [
    "# Answer Question 3 here:\n",
    "It makes sense to drop the 'Grade' column as it is irrelevant to fresh pumpkins which is what the dataset is about. The \n",
    "'Grade' column would not be used in analysing the fresh pumpkin sale dataset."
   ]
  },
  {
   "cell_type": "code",
   "execution_count": 115,
   "id": "ddf0ab8f",
   "metadata": {
    "scrolled": true
   },
   "outputs": [],
   "source": [
    "# Grade Column \n",
    "data = data.drop([\"Grade\"], axis=1) "
   ]
  },
  {
   "cell_type": "code",
   "execution_count": 116,
   "id": "67e812d5",
   "metadata": {},
   "outputs": [
    {
     "data": {
      "text/plain": [
       "(166, 24)"
      ]
     },
     "execution_count": 116,
     "metadata": {},
     "output_type": "execute_result"
    }
   ],
   "source": [
    "#Check with shape\n",
    "data.shape"
   ]
  },
  {
   "cell_type": "markdown",
   "id": "711bedbe",
   "metadata": {},
   "source": [
    "# Question 4\n",
    "\n",
    "Decide which columns are relevant and irrelevant as a group.\n",
    "\n",
    "Do you think any of the columns empty for a reason?  What reason do you think? \n",
    "Is this intentional or unintentional?  \n",
    "What do you think?"
   ]
  },
  {
   "cell_type": "code",
   "execution_count": 117,
   "id": "3236839d",
   "metadata": {},
   "outputs": [],
   "source": [
    "# Explain your rationale breifly here: \n",
    "Since the data set contains data of pumpkins already sold and there are no columns that need to be filled post sales.\n",
    "I dont think any of the columns were left empty intentionally as they all have details of the pumpkins to be sold."
   ]
  },
  {
   "cell_type": "code",
   "execution_count": 118,
   "id": "ea0df42f",
   "metadata": {},
   "outputs": [],
   "source": [
    "# Drop the ones you decide are irrelevant using the code we used to drop the \"Grade Column\"\n",
    "none"
   ]
  },
  {
   "cell_type": "markdown",
   "id": "66ac7337",
   "metadata": {},
   "source": [
    "# Question 5:\n",
    "\n",
    "Plot the outliers for them.\n",
    "histogram of date vs. sales\n",
    "\n",
    "\n",
    "What do you think about the dates?  "
   ]
  },
  {
   "cell_type": "code",
   "execution_count": 119,
   "id": "04a97f78",
   "metadata": {},
   "outputs": [],
   "source": [
    "# Answer 5 here:\n",
    "\n",
    "Harvest season in 2016 is longest - from sept,2016 to Jan,2017.\n",
    "The harvest season in 2017 is shorter - from sept,2017 to Nov,2017.\n",
    "The harvest sales are a lot less in 2017 compared to the corresponding months' sales in 2016."
   ]
  },
  {
   "cell_type": "code",
   "execution_count": 120,
   "id": "11aa94a9",
   "metadata": {},
   "outputs": [
    {
     "data": {
      "text/plain": [
       "<AxesSubplot:>"
      ]
     },
     "execution_count": 120,
     "metadata": {},
     "output_type": "execute_result"
    },
    {
     "data": {
      "image/png": "[encoded data removed]",
      "text/plain": [
       "<Figure size 432x288 with 1 Axes>"
      ]
     },
     "metadata": {
      "needs_background": "light"
     },
     "output_type": "display_data"
    }
   ],
   "source": [
    "# # bar chart -  distribution of a categorical variable\n",
    "data['Date'].value_counts().plot.bar()"
   ]
  },
  {
   "cell_type": "code",
   "execution_count": 121,
   "id": "77d6e9a9",
   "metadata": {},
   "outputs": [
    {
     "data": {
      "text/plain": [
       "([0, 1, 2, 3, 4, 5, 6, 7, 8, 9, 10, 11, 12, 13, 14, 15, 16, 17, 18],\n",
       " [Text(0, 0, ''),\n",
       "  Text(0, 0, ''),\n",
       "  Text(0, 0, ''),\n",
       "  Text(0, 0, ''),\n",
       "  Text(0, 0, ''),\n",
       "  Text(0, 0, ''),\n",
       "  Text(0, 0, ''),\n",
       "  Text(0, 0, ''),\n",
       "  Text(0, 0, ''),\n",
       "  Text(0, 0, ''),\n",
       "  Text(0, 0, ''),\n",
       "  Text(0, 0, ''),\n",
       "  Text(0, 0, ''),\n",
       "  Text(0, 0, ''),\n",
       "  Text(0, 0, ''),\n",
       "  Text(0, 0, ''),\n",
       "  Text(0, 0, ''),\n",
       "  Text(0, 0, ''),\n",
       "  Text(0, 0, '')])"
      ]
     },
     "execution_count": 121,
     "metadata": {},
     "output_type": "execute_result"
    },
    {
     "data": {
      "image/png": "[encoded data removed]",
      "text/plain": [
       "<Figure size 432x288 with 1 Axes>"
      ]
     },
     "metadata": {
      "needs_background": "light"
     },
     "output_type": "display_data"
    }
   ],
   "source": [
    "# # histogram of dates.\n",
    "data['Date'].hist(bins=100)\n",
    "plt.xticks(rotation=90)\n",
    "\n",
    "#ignore the lists above the histogram for right now.  Examine the histogram."
   ]
  },
  {
   "cell_type": "markdown",
   "id": "dde3d3bf",
   "metadata": {},
   "source": [
    "# Question 6:\n",
    "\n",
    "Are there any points in this data set that you worry about inconsistencies? \n",
    "Where?  What would you want to check?  Why?"
   ]
  },
  {
   "cell_type": "code",
   "execution_count": 122,
   "id": "e76d67dd",
   "metadata": {},
   "outputs": [],
   "source": [
    "# Answer Question 6 here: \n",
    "In the 'Package' column the pumpkins are measured in bushel cartons,cartons and bins. There is no other data type inconsistency\n",
    "that I worry about. I would like to check the conversion to have uniform pumpkin package measurement.\n"
   ]
  },
  {
   "cell_type": "markdown",
   "id": "91b4f663",
   "metadata": {},
   "source": [
    "# Bonus Mission\n",
    "\n",
    "Fix the LA page at this link: [A Year of Pumpkin Prices](https://www.kaggle.com/usda/a-year-of-pumpkin-prices)"
   ]
  },
  {
   "cell_type": "code",
   "execution_count": 1,
   "id": "40f72977",
   "metadata": {},
   "outputs": [
    {
     "data": {
      "text/html": [
       "<div>\n",
       "<style scoped>\n",
       "    .dataframe tbody tr th:only-of-type {\n",
       "        vertical-align: middle;\n",
       "    }\n",
       "\n",
       "    .dataframe tbody tr th {\n",
       "        vertical-align: top;\n",
       "    }\n",
       "\n",
       "    .dataframe thead th {\n",
       "        text-align: right;\n",
       "    }\n",
       "</style>\n",
       "<table border=\"1\" class=\"dataframe\">\n",
       "  <thead>\n",
       "    <tr style=\"text-align: right;\">\n",
       "      <th></th>\n",
       "      <th>Commodity Name</th>\n",
       "      <th>City Name</th>\n",
       "      <th>Type</th>\n",
       "      <th>Package</th>\n",
       "      <th>Variety</th>\n",
       "      <th>Sub Variety</th>\n",
       "      <th>Grade</th>\n",
       "      <th>Date</th>\n",
       "      <th>Low Price</th>\n",
       "      <th>High Price</th>\n",
       "      <th>...</th>\n",
       "      <th>Color</th>\n",
       "      <th>Environment</th>\n",
       "      <th>Unit of Sale</th>\n",
       "      <th>Quality</th>\n",
       "      <th>Condition</th>\n",
       "      <th>Appearance</th>\n",
       "      <th>Storage</th>\n",
       "      <th>Crop</th>\n",
       "      <th>Repack</th>\n",
       "      <th>Trans Mode</th>\n",
       "    </tr>\n",
       "  </thead>\n",
       "  <tbody>\n",
       "    <tr>\n",
       "      <th>0</th>\n",
       "      <td>PUMPKINS</td>\n",
       "      <td>LOS ANGELES</td>\n",
       "      <td>NaN</td>\n",
       "      <td>24 inch bins</td>\n",
       "      <td>HOWDEN TYPE</td>\n",
       "      <td>NaN</td>\n",
       "      <td>NaN</td>\n",
       "      <td>09/24/2016</td>\n",
       "      <td>120.0</td>\n",
       "      <td>130.0</td>\n",
       "      <td>...</td>\n",
       "      <td>NaN</td>\n",
       "      <td>NaN</td>\n",
       "      <td>PER BIN</td>\n",
       "      <td>NaN</td>\n",
       "      <td>NaN</td>\n",
       "      <td>NaN</td>\n",
       "      <td>NaN</td>\n",
       "      <td>NaN</td>\n",
       "      <td>N</td>\n",
       "      <td>NaN</td>\n",
       "    </tr>\n",
       "    <tr>\n",
       "      <th>1</th>\n",
       "      <td>PUMPKINS</td>\n",
       "      <td>LOS ANGELES</td>\n",
       "      <td>NaN</td>\n",
       "      <td>24 inch bins</td>\n",
       "      <td>HOWDEN TYPE</td>\n",
       "      <td>NaN</td>\n",
       "      <td>NaN</td>\n",
       "      <td>09/24/2016</td>\n",
       "      <td>120.0</td>\n",
       "      <td>130.0</td>\n",
       "      <td>...</td>\n",
       "      <td>NaN</td>\n",
       "      <td>NaN</td>\n",
       "      <td>PER BIN</td>\n",
       "      <td>NaN</td>\n",
       "      <td>NaN</td>\n",
       "      <td>NaN</td>\n",
       "      <td>NaN</td>\n",
       "      <td>NaN</td>\n",
       "      <td>N</td>\n",
       "      <td>NaN</td>\n",
       "    </tr>\n",
       "    <tr>\n",
       "      <th>2</th>\n",
       "      <td>PUMPKINS</td>\n",
       "      <td>LOS ANGELES</td>\n",
       "      <td>NaN</td>\n",
       "      <td>24 inch bins</td>\n",
       "      <td>HOWDEN TYPE</td>\n",
       "      <td>NaN</td>\n",
       "      <td>NaN</td>\n",
       "      <td>10/01/2016</td>\n",
       "      <td>120.0</td>\n",
       "      <td>130.0</td>\n",
       "      <td>...</td>\n",
       "      <td>NaN</td>\n",
       "      <td>NaN</td>\n",
       "      <td>PER BIN</td>\n",
       "      <td>NaN</td>\n",
       "      <td>NaN</td>\n",
       "      <td>NaN</td>\n",
       "      <td>NaN</td>\n",
       "      <td>NaN</td>\n",
       "      <td>N</td>\n",
       "      <td>NaN</td>\n",
       "    </tr>\n",
       "    <tr>\n",
       "      <th>3</th>\n",
       "      <td>PUMPKINS</td>\n",
       "      <td>LOS ANGELES</td>\n",
       "      <td>NaN</td>\n",
       "      <td>24 inch bins</td>\n",
       "      <td>HOWDEN TYPE</td>\n",
       "      <td>NaN</td>\n",
       "      <td>NaN</td>\n",
       "      <td>10/01/2016</td>\n",
       "      <td>120.0</td>\n",
       "      <td>130.0</td>\n",
       "      <td>...</td>\n",
       "      <td>NaN</td>\n",
       "      <td>NaN</td>\n",
       "      <td>PER BIN</td>\n",
       "      <td>NaN</td>\n",
       "      <td>NaN</td>\n",
       "      <td>NaN</td>\n",
       "      <td>NaN</td>\n",
       "      <td>NaN</td>\n",
       "      <td>N</td>\n",
       "      <td>NaN</td>\n",
       "    </tr>\n",
       "    <tr>\n",
       "      <th>4</th>\n",
       "      <td>PUMPKINS</td>\n",
       "      <td>LOS ANGELES</td>\n",
       "      <td>NaN</td>\n",
       "      <td>24 inch bins</td>\n",
       "      <td>HOWDEN TYPE</td>\n",
       "      <td>NaN</td>\n",
       "      <td>NaN</td>\n",
       "      <td>10/08/2016</td>\n",
       "      <td>120.0</td>\n",
       "      <td>130.0</td>\n",
       "      <td>...</td>\n",
       "      <td>NaN</td>\n",
       "      <td>NaN</td>\n",
       "      <td>PER BIN</td>\n",
       "      <td>NaN</td>\n",
       "      <td>NaN</td>\n",
       "      <td>NaN</td>\n",
       "      <td>NaN</td>\n",
       "      <td>NaN</td>\n",
       "      <td>N</td>\n",
       "      <td>NaN</td>\n",
       "    </tr>\n",
       "  </tbody>\n",
       "</table>\n",
       "<p>5 rows × 25 columns</p>\n",
       "</div>"
      ],
      "text/plain": [
       "  Commodity Name    City Name  Type       Package      Variety Sub Variety  \\\n",
       "0       PUMPKINS  LOS ANGELES   NaN  24 inch bins  HOWDEN TYPE         NaN   \n",
       "1       PUMPKINS  LOS ANGELES   NaN  24 inch bins  HOWDEN TYPE         NaN   \n",
       "2       PUMPKINS  LOS ANGELES   NaN  24 inch bins  HOWDEN TYPE         NaN   \n",
       "3       PUMPKINS  LOS ANGELES   NaN  24 inch bins  HOWDEN TYPE         NaN   \n",
       "4       PUMPKINS  LOS ANGELES   NaN  24 inch bins  HOWDEN TYPE         NaN   \n",
       "\n",
       "   Grade        Date  Low Price  High Price  ...  Color  Environment  \\\n",
       "0    NaN  09/24/2016      120.0       130.0  ...    NaN          NaN   \n",
       "1    NaN  09/24/2016      120.0       130.0  ...    NaN          NaN   \n",
       "2    NaN  10/01/2016      120.0       130.0  ...    NaN          NaN   \n",
       "3    NaN  10/01/2016      120.0       130.0  ...    NaN          NaN   \n",
       "4    NaN  10/08/2016      120.0       130.0  ...    NaN          NaN   \n",
       "\n",
       "  Unit of Sale Quality Condition Appearance  Storage Crop  Repack  Trans Mode  \n",
       "0      PER BIN     NaN       NaN        NaN      NaN  NaN       N         NaN  \n",
       "1      PER BIN     NaN       NaN        NaN      NaN  NaN       N         NaN  \n",
       "2      PER BIN     NaN       NaN        NaN      NaN  NaN       N         NaN  \n",
       "3      PER BIN     NaN       NaN        NaN      NaN  NaN       N         NaN  \n",
       "4      PER BIN     NaN       NaN        NaN      NaN  NaN       N         NaN  \n",
       "\n",
       "[5 rows x 25 columns]"
      ]
     },
     "execution_count": 1,
     "metadata": {},
     "output_type": "execute_result"
    }
   ],
   "source": [
    "\n",
    "import pandas as pd\n",
    "import matplotlib \n",
    "import matplotlib.pyplot as plt\n",
    "import numpy as np\n",
    "\n",
    "df_LA = pd.read_csv(\"los-angeles_9-24-2016_9-30-2017.csv\")\n",
    "\n",
    "df_LA.head()\n",
    "\n"
   ]
  },
  {
   "cell_type": "code",
   "execution_count": 2,
   "id": "3ab9576b-2251-465b-99d9-8212b2aff60f",
   "metadata": {},
   "outputs": [
    {
     "name": "stdout",
     "output_type": "stream",
     "text": [
      "Commodity Name - 0%\n",
      "City Name - 0%\n",
      "Type - 100%\n",
      "Package - 0%\n",
      "Variety - 0%\n",
      "Sub Variety - 90%\n",
      "Grade - 100%\n",
      "Date - 0%\n",
      "Low Price - 0%\n",
      "High Price - 0%\n",
      "Mostly Low - 0%\n",
      "Mostly High - 0%\n",
      "Origin - 0%\n",
      "Origin District - 50%\n",
      "Item Size - 26%\n",
      "Color - 84%\n",
      "Environment - 100%\n",
      "Unit of Sale - 15%\n",
      "Quality - 100%\n",
      "Condition - 100%\n",
      "Appearance - 100%\n",
      "Storage - 100%\n",
      "Crop - 100%\n",
      "Repack - 0%\n",
      "Trans Mode - 100%\n"
     ]
    }
   ],
   "source": [
    "for col in df_LA.columns:\n",
    "    pct_missing = np.mean(df_LA[col].isnull())\n",
    "    print('{} - {}%'.format(col, round(pct_missing*100)))\n"
   ]
  },
  {
   "cell_type": "code",
   "execution_count": 3,
   "id": "f266b448-bcd6-4146-89f3-c6cc8df9b542",
   "metadata": {},
   "outputs": [
    {
     "name": "stdout",
     "output_type": "stream",
     "text": [
      "47.0 % Missing cells from the data\n"
     ]
    }
   ],
   "source": [
    "# Checking the overall percentage of missing data from the data set\n",
    "\n",
    "total_cells = np.product(df_LA.shape)\n",
    "\n",
    "missing_cells = pd.isnull(df_LA).sum()\n",
    "\n",
    "total_missing = missing_cells.sum()\n",
    "\n",
    "percentage_missing = round((total_missing/total_cells), 2) *100\n",
    "\n",
    "print(percentage_missing, \"% Missing cells from the data\")   "
   ]
  },
  {
   "cell_type": "markdown",
   "id": "d2a8a778-8b97-4ea0-874b-555e8d3a2fff",
   "metadata": {},
   "source": [
    "### Question 1: \n",
    "\n",
    "Look at the percentages of missing data per coluum.  There are quite a few columns with less than 100% of the data.  What do you want to do with each column?   Consider the following options for each and write down your thoughts in a box below this one.\n",
    "1. Drop the Observation\n",
    "1. Drop the Feature\n",
    "1. Impute the Missing Values\n",
    "1. Replace the Missing Values"
   ]
  },
  {
   "cell_type": "code",
   "execution_count": null,
   "id": "c93a9456-258e-4bf3-acf2-92a90cba94f1",
   "metadata": {},
   "outputs": [],
   "source": [
    "\n",
    "Type - 100%\n",
    "Grade - 100%\n",
    "Environment - 100%\n",
    "Quality - 100%\n",
    "Condition - 100%\n",
    "Appearance - 100%\n",
    "Storage - 100%\n",
    "Crop - 100%\n",
    "Trans Mode - 100%\n",
    "\n",
    "KEEP FOR BUSINESS ISSUE\n",
    "Sub Variety - 90%\n",
    "Origin District - 50%\n",
    "Item Size - 26%\n",
    "Color - 84%\n",
    "Unit of Sale - 15%\n"
   ]
  },
  {
   "cell_type": "markdown",
   "id": "47f5dc8b-e473-48d9-89f5-3ac87625c6b1",
   "metadata": {},
   "source": [
    "# Question 2:\n",
    "\n",
    "Look at the \"Type\" column.  This column contains two values, \"Organic\" and \"NaN\".  \n",
    "When it comes to food, food is either typically designated as \"Organic\" or \"Conventional\" based on farming practices.  \n",
    "\n",
    "Do you think we should update the \"NaN\" values to \"Conventional\"?  Why or Why not?"
   ]
  },
  {
   "cell_type": "code",
   "execution_count": 112,
   "id": "7a72f6f0-e3c9-4cb0-bd7d-6e332c5f4b7c",
   "metadata": {},
   "outputs": [],
   "source": [
    "# Answers Question 2:\n",
    "We should update \"Nan\" values to \"Conventional\", because any other type would not be organic so its safe to \n",
    "rename Nan to Conventional.\n"
   ]
  },
  {
   "cell_type": "code",
   "execution_count": 4,
   "id": "b93c6dcc-c5fc-4716-b5fc-acbdbadbe482",
   "metadata": {},
   "outputs": [
    {
     "name": "stdout",
     "output_type": "stream",
     "text": [
      "   Commodity Name    City Name          Type        Package      Variety  \\\n",
      "0        PUMPKINS  LOS ANGELES  Conventional   24 inch bins  HOWDEN TYPE   \n",
      "1        PUMPKINS  LOS ANGELES  Conventional   24 inch bins  HOWDEN TYPE   \n",
      "2        PUMPKINS  LOS ANGELES  Conventional   24 inch bins  HOWDEN TYPE   \n",
      "3        PUMPKINS  LOS ANGELES  Conventional   24 inch bins  HOWDEN TYPE   \n",
      "4        PUMPKINS  LOS ANGELES  Conventional   24 inch bins  HOWDEN TYPE   \n",
      "..            ...          ...           ...            ...          ...   \n",
      "57       PUMPKINS  LOS ANGELES  Conventional  35 lb cartons    MINIATURE   \n",
      "58       PUMPKINS  LOS ANGELES  Conventional  35 lb cartons    MINIATURE   \n",
      "59       PUMPKINS  LOS ANGELES  Conventional  35 lb cartons    MINIATURE   \n",
      "60       PUMPKINS  LOS ANGELES  Conventional  35 lb cartons    MINIATURE   \n",
      "61       PUMPKINS  LOS ANGELES  Conventional  35 lb cartons    MINIATURE   \n",
      "\n",
      "   Sub Variety  Grade        Date  Low Price  High Price  ...   Color  \\\n",
      "0          NaN    NaN  09/24/2016      120.0       130.0  ...     NaN   \n",
      "1          NaN    NaN  09/24/2016      120.0       130.0  ...     NaN   \n",
      "2          NaN    NaN  10/01/2016      120.0       130.0  ...     NaN   \n",
      "3          NaN    NaN  10/01/2016      120.0       130.0  ...     NaN   \n",
      "4          NaN    NaN  10/08/2016      120.0       130.0  ...     NaN   \n",
      "..         ...    ...         ...        ...         ...  ...     ...   \n",
      "57   FLAT TYPE    NaN  09/16/2017       24.5        24.5  ...   WHITE   \n",
      "58   FLAT TYPE    NaN  09/23/2017       24.5        24.5  ...   WHITE   \n",
      "59   FLAT TYPE    NaN  09/23/2017       24.5        24.5  ...  ORANGE   \n",
      "60   FLAT TYPE    NaN  09/30/2017       24.5        24.5  ...  ORANGE   \n",
      "61   FLAT TYPE    NaN  09/30/2017       24.5        24.5  ...   WHITE   \n",
      "\n",
      "    Environment Unit of Sale Quality Condition Appearance  Storage Crop  \\\n",
      "0           NaN      PER BIN     NaN       NaN        NaN      NaN  NaN   \n",
      "1           NaN      PER BIN     NaN       NaN        NaN      NaN  NaN   \n",
      "2           NaN      PER BIN     NaN       NaN        NaN      NaN  NaN   \n",
      "3           NaN      PER BIN     NaN       NaN        NaN      NaN  NaN   \n",
      "4           NaN      PER BIN     NaN       NaN        NaN      NaN  NaN   \n",
      "..          ...          ...     ...       ...        ...      ...  ...   \n",
      "57          NaN          NaN     NaN       NaN        NaN      NaN  NaN   \n",
      "58          NaN          NaN     NaN       NaN        NaN      NaN  NaN   \n",
      "59          NaN          NaN     NaN       NaN        NaN      NaN  NaN   \n",
      "60          NaN          NaN     NaN       NaN        NaN      NaN  NaN   \n",
      "61          NaN          NaN     NaN       NaN        NaN      NaN  NaN   \n",
      "\n",
      "    Repack  Trans Mode  \n",
      "0        N         NaN  \n",
      "1        N         NaN  \n",
      "2        N         NaN  \n",
      "3        N         NaN  \n",
      "4        N         NaN  \n",
      "..     ...         ...  \n",
      "57       N         NaN  \n",
      "58       N         NaN  \n",
      "59       N         NaN  \n",
      "60       N         NaN  \n",
      "61       N         NaN  \n",
      "\n",
      "[62 rows x 25 columns]\n"
     ]
    }
   ],
   "source": [
    "# Fill the Missing Values in the Type Column\n",
    "df_LA[\"Type\"] = df_LA[\"Type\"].fillna(\"Conventional\")\n",
    "print(df_LA)"
   ]
  },
  {
   "cell_type": "markdown",
   "id": "c7b62c08-fc09-4bb1-9b66-29b5b652cedb",
   "metadata": {},
   "source": [
    "# Question 3\n",
    "\n",
    "Based on the information provided by our team, \"Grade\" is only applied to canned pumpkin.  \n",
    "These were all uncanned, whole pumpkins.  This column is irrelevant to the dataset.\n",
    "\n",
    "We are going to drop the column.  Do you agree with this choice?  Why or why not?"
   ]
  },
  {
   "cell_type": "code",
   "execution_count": 114,
   "id": "ce77a79b-89a1-4b24-a1e5-08b2ca37f460",
   "metadata": {},
   "outputs": [],
   "source": [
    "# Answer Question 3 here:\n",
    "It makes sense to drop the 'Grade' column as it does not add any information in the analysis of the fresh pumpkins."
   ]
  },
  {
   "cell_type": "code",
   "execution_count": 5,
   "id": "ea636893-a7cb-40dc-9b4e-2adf938ff8a2",
   "metadata": {},
   "outputs": [
    {
     "data": {
      "text/plain": [
       "(62, 24)"
      ]
     },
     "execution_count": 5,
     "metadata": {},
     "output_type": "execute_result"
    }
   ],
   "source": [
    "# Grade Column \n",
    "df_LA = df_LA.drop([\"Grade\"], axis=1)\n",
    "#Check with shape\n",
    "df_LA.shape"
   ]
  },
  {
   "cell_type": "markdown",
   "id": "f4002d97-7167-48c3-8c79-57d8ff673463",
   "metadata": {},
   "source": [
    "# Question 4\n",
    "\n",
    "Decide which columns are relevant and irrelevant as a group.\n",
    "\n",
    "Do you think any of the columns empty for a reason?  What reason do you think? \n",
    "Is this intentional or unintentional?  \n",
    "What do you think?"
   ]
  },
  {
   "cell_type": "code",
   "execution_count": 117,
   "id": "e1d95a7b-d40c-4474-b65d-284ea6613b2a",
   "metadata": {},
   "outputs": [],
   "source": [
    "# Explain your rationale breifly here: \n",
    "Since the data set contains data of pumpkins already sold and there are no col with data that needs to be input post sales,\n",
    "I dont think any of the columns were left empty intentionally.\n",
    "\n",
    "# Drop the ones you decide are irrelevant using the code we used to drop the \"Grade Column\"\n",
    "none"
   ]
  },
  {
   "cell_type": "markdown",
   "id": "5697416d-64a2-4bcc-9ebe-4e91ca6717e4",
   "metadata": {},
   "source": [
    "# Question 5:\n",
    "\n",
    "Plot the outliers for them.\n",
    "histogram of date vs. sales\n",
    "\n",
    "\n",
    "What do you think about the dates?  "
   ]
  },
  {
   "cell_type": "code",
   "execution_count": 6,
   "id": "244083a2-7122-4c5d-87e0-2fb1f2f4815d",
   "metadata": {},
   "outputs": [
    {
     "data": {
      "text/plain": [
       "<Axes: xlabel='Date'>"
      ]
     },
     "execution_count": 6,
     "metadata": {},
     "output_type": "execute_result"
    },
    {
     "data": {
      "image/png": "[encoded data removed]",
      "text/plain": [
       "<Figure size 640x480 with 1 Axes>"
      ]
     },
     "metadata": {},
     "output_type": "display_data"
    }
   ],
   "source": [
    "# # bar chart -  distribution of a categorical variable\n",
    "df_LA['Date'].value_counts().plot.bar()"
   ]
  },
  {
   "cell_type": "code",
   "execution_count": 7,
   "id": "c664d645-cf63-425d-84cc-3ceb6e3f2c9f",
   "metadata": {},
   "outputs": [
    {
     "data": {
      "text/plain": [
       "([0, 1, 2, 3, 4, 5, 6, 7, 8, 9, 10, 11, 12, 13],\n",
       " [Text(0, 0, '09/24/2016'),\n",
       "  Text(1, 0, '10/01/2016'),\n",
       "  Text(2, 0, '10/08/2016'),\n",
       "  Text(3, 0, '10/15/2016'),\n",
       "  Text(4, 0, '10/22/2016'),\n",
       "  Text(5, 0, '10/29/2016'),\n",
       "  Text(6, 0, '11/05/2016'),\n",
       "  Text(7, 0, '09/16/2017'),\n",
       "  Text(8, 0, '09/23/2017'),\n",
       "  Text(9, 0, '09/30/2017'),\n",
       "  Text(10, 0, '09/09/2017'),\n",
       "  Text(11, 0, '08/19/2017'),\n",
       "  Text(12, 0, '08/26/2017'),\n",
       "  Text(13, 0, '09/02/2017')])"
      ]
     },
     "execution_count": 7,
     "metadata": {},
     "output_type": "execute_result"
    },
    {
     "data": {
      "image/png": "[encoded data removed]",
      "text/plain": [
       "<Figure size 640x480 with 1 Axes>"
      ]
     },
     "metadata": {},
     "output_type": "display_data"
    }
   ],
   "source": [
    "# # histogram of dates.\n",
    "df_LA['Date'].hist(bins=100)\n",
    "plt.xticks(rotation=90)\n",
    "\n",
    "#ignore the lists above the histogram for right now.  Examine the histogram."
   ]
  },
  {
   "cell_type": "code",
   "execution_count": null,
   "id": "ba641a56-caec-403d-85a4-d1ba9858ea5e",
   "metadata": {},
   "outputs": [],
   "source": [
    "Harvest season is longer in 2016 (Sept to Nov) than in 2017 (Aug and Sept). The sales on the week of sept,2017 seems to be a outlier \n",
    "as it is the only reading that crosses 12 and all others are 6 and under. "
   ]
  },
  {
   "cell_type": "markdown",
   "id": "22db4267-6a65-4348-9a48-9012c6a0f6d9",
   "metadata": {},
   "source": [
    "# Question 6:\n",
    "\n",
    "Are there any points in this data set that you worry about inconsistencies? \n",
    "Where?  What would you want to check?  Why?"
   ]
  },
  {
   "cell_type": "code",
   "execution_count": null,
   "id": "c594dc35-6e9a-485a-9d0c-9cb5240d38d4",
   "metadata": {},
   "outputs": [],
   "source": [
    "# Answer Question 6 here: \n",
    "In the 'Package' column the pumpkins are measured in bushel cartons,cartons and bins. There is no other data type inconsistency\n",
    "that I worry about. Would like to check the conversion to have uniform pumpkin package measurement."
   ]
  }
 ],
 "metadata": {
  "kernelspec": {
   "display_name": "Python 3 (ipykernel)",
   "language": "python",
   "name": "python3"
  },
  "language_info": {
   "codemirror_mode": {
    "name": "ipython",
    "version": 3
   },
   "file_extension": ".py",
   "mimetype": "text/x-python",
   "name": "python",
   "nbconvert_exporter": "python",
   "pygments_lexer": "ipython3",
   "version": "3.8.8"
  }
 },
 "nbformat": 4,
 "nbformat_minor": 5
}
